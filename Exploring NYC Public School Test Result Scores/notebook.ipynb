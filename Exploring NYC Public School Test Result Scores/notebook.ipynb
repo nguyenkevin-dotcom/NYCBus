{
 "cells": [
  {
   "cell_type": "markdown",
   "id": "fe0ea788-58dd-459e-8976-fafdb5c05c6d",
   "metadata": {},
   "source": [
    "![New York City schoolbus](schoolbus.jpg)\n",
    "\n",
    "Photo by [Jannis Lucas](https://unsplash.com/@jannis_lucas) on [Unsplash](https://unsplash.com).\n",
    "<br>\n",
    "\n",
    "Every year, American high school students take SATs, which are standardized tests intended to measure literacy, numeracy, and writing skills. There are three sections - reading, math, and writing, each with a **maximum score of 800 points**. These tests are extremely important for students and colleges, as they play a pivotal role in the admissions process.\n",
    "\n",
    "Analyzing the performance of schools is important for a variety of stakeholders, including policy and education professionals, researchers, government, and even parents considering which school their children should attend. \n",
    "\n",
    "You have been provided with a dataset called `schools.csv`, which is previewed below.\n",
    "\n",
    "You have been tasked with answering three key questions about New York City (NYC) public school SAT performance."
   ]
  },
  {
   "cell_type": "code",
   "execution_count": 1,
   "id": "d0eb4f16-5a99-460d-a5ba-706b7ef0bbe7",
   "metadata": {
    "executionCancelledAt": null,
    "executionTime": 3513,
    "id": "bA5ajAmk7XH6",
    "lastExecutedAt": 1746429296528,
    "lastExecutedByKernel": "3d47bbd3-2b30-4bf7-8ddd-d8fc10f8795b",
    "lastScheduledRunId": null,
    "lastSuccessfullyExecutedCode": "# Re-run this cell \nimport pandas as pd\n\n# Read in the data\nschools = pd.read_csv(\"schools.csv\")\n\n# Preview the data\nschools.head()\n\n# Start coding here...\n# Add as many cells as you like...",
    "outputsMetadata": {
     "0": {
      "height": 550,
      "tableState": {},
      "type": "dataFrame"
     }
    }
   },
   "outputs": [
    {
     "data": {
      "application/com.datacamp.data-table.v2+json": {
       "table": {
        "data": {
         "average_math": [
          657,
          395,
          418,
          613,
          410
         ],
         "average_reading": [
          601,
          411,
          428,
          453,
          406
         ],
         "average_writing": [
          601,
          387,
          415,
          463,
          381
         ],
         "borough": [
          "Manhattan",
          "Manhattan",
          "Manhattan",
          "Manhattan",
          "Manhattan"
         ],
         "building_code": [
          "M022",
          "M445",
          "M445",
          "M445",
          "M056"
         ],
         "index": [
          0,
          1,
          2,
          3,
          4
         ],
         "percent_tested": [
          null,
          78.9,
          65.1,
          95.9,
          59.7
         ],
         "school_name": [
          "New Explorations into Science, Technology and Math High School",
          "Essex Street Academy",
          "Lower Manhattan Arts Academy",
          "High School for Dual Language and Asian Studies",
          "Henry Street School for International Studies"
         ]
        },
        "schema": {
         "fields": [
          {
           "name": "index",
           "type": "integer"
          },
          {
           "name": "school_name",
           "type": "string"
          },
          {
           "name": "borough",
           "type": "string"
          },
          {
           "name": "building_code",
           "type": "string"
          },
          {
           "name": "average_math",
           "type": "integer"
          },
          {
           "name": "average_reading",
           "type": "integer"
          },
          {
           "name": "average_writing",
           "type": "integer"
          },
          {
           "name": "percent_tested",
           "type": "number"
          }
         ],
         "pandas_version": "1.4.0",
         "primaryKey": [
          "index"
         ]
        }
       },
       "total_rows": 5,
       "truncation_type": null
      },
      "text/html": [
       "<div>\n",
       "<style scoped>\n",
       "    .dataframe tbody tr th:only-of-type {\n",
       "        vertical-align: middle;\n",
       "    }\n",
       "\n",
       "    .dataframe tbody tr th {\n",
       "        vertical-align: top;\n",
       "    }\n",
       "\n",
       "    .dataframe thead th {\n",
       "        text-align: right;\n",
       "    }\n",
       "</style>\n",
       "<table border=\"1\" class=\"dataframe\">\n",
       "  <thead>\n",
       "    <tr style=\"text-align: right;\">\n",
       "      <th></th>\n",
       "      <th>school_name</th>\n",
       "      <th>borough</th>\n",
       "      <th>building_code</th>\n",
       "      <th>average_math</th>\n",
       "      <th>average_reading</th>\n",
       "      <th>average_writing</th>\n",
       "      <th>percent_tested</th>\n",
       "    </tr>\n",
       "  </thead>\n",
       "  <tbody>\n",
       "    <tr>\n",
       "      <th>0</th>\n",
       "      <td>New Explorations into Science, Technology and ...</td>\n",
       "      <td>Manhattan</td>\n",
       "      <td>M022</td>\n",
       "      <td>657</td>\n",
       "      <td>601</td>\n",
       "      <td>601</td>\n",
       "      <td>NaN</td>\n",
       "    </tr>\n",
       "    <tr>\n",
       "      <th>1</th>\n",
       "      <td>Essex Street Academy</td>\n",
       "      <td>Manhattan</td>\n",
       "      <td>M445</td>\n",
       "      <td>395</td>\n",
       "      <td>411</td>\n",
       "      <td>387</td>\n",
       "      <td>78.9</td>\n",
       "    </tr>\n",
       "    <tr>\n",
       "      <th>2</th>\n",
       "      <td>Lower Manhattan Arts Academy</td>\n",
       "      <td>Manhattan</td>\n",
       "      <td>M445</td>\n",
       "      <td>418</td>\n",
       "      <td>428</td>\n",
       "      <td>415</td>\n",
       "      <td>65.1</td>\n",
       "    </tr>\n",
       "    <tr>\n",
       "      <th>3</th>\n",
       "      <td>High School for Dual Language and Asian Studies</td>\n",
       "      <td>Manhattan</td>\n",
       "      <td>M445</td>\n",
       "      <td>613</td>\n",
       "      <td>453</td>\n",
       "      <td>463</td>\n",
       "      <td>95.9</td>\n",
       "    </tr>\n",
       "    <tr>\n",
       "      <th>4</th>\n",
       "      <td>Henry Street School for International Studies</td>\n",
       "      <td>Manhattan</td>\n",
       "      <td>M056</td>\n",
       "      <td>410</td>\n",
       "      <td>406</td>\n",
       "      <td>381</td>\n",
       "      <td>59.7</td>\n",
       "    </tr>\n",
       "  </tbody>\n",
       "</table>\n",
       "</div>"
      ],
      "text/plain": [
       "                                         school_name  ... percent_tested\n",
       "0  New Explorations into Science, Technology and ...  ...            NaN\n",
       "1                               Essex Street Academy  ...           78.9\n",
       "2                       Lower Manhattan Arts Academy  ...           65.1\n",
       "3    High School for Dual Language and Asian Studies  ...           95.9\n",
       "4      Henry Street School for International Studies  ...           59.7\n",
       "\n",
       "[5 rows x 7 columns]"
      ]
     },
     "execution_count": 1,
     "metadata": {
      "application/com.datacamp.data-table.v2+json": {
       "status": "success"
      }
     },
     "output_type": "execute_result"
    }
   ],
   "source": [
    "# Re-run this cell \n",
    "import pandas as pd\n",
    "\n",
    "# Read in the data\n",
    "schools = pd.read_csv(\"schools.csv\")\n",
    "\n",
    "# Preview the data\n",
    "schools.head()\n",
    "\n",
    "# Start coding here...\n",
    "# Add as many cells as you like..."
   ]
  },
  {
   "cell_type": "code",
   "execution_count": 2,
   "id": "9f0cdfc3-bd0e-4c36-a1a1-9615b0b3e5b2",
   "metadata": {
    "executionCancelledAt": null,
    "executionTime": 59,
    "lastExecutedAt": 1746429296587,
    "lastExecutedByKernel": "3d47bbd3-2b30-4bf7-8ddd-d8fc10f8795b",
    "lastScheduledRunId": null,
    "lastSuccessfullyExecutedCode": "# Which NYC schools have the best math results?\nmath_schools = schools[schools[\"average_math\"] >= 640]\nprint(math_schools)\n\nbest_math_schools = math_schools[[\"school_name\",\"average_math\"]].sort_values(\"average_math\", ascending=False)\nprint(best_math_schools)",
    "outputsMetadata": {
     "0": {
      "height": 521,
      "type": "stream"
     }
    }
   },
   "outputs": [
    {
     "name": "stdout",
     "output_type": "stream",
     "text": [
      "                                           school_name  ... percent_tested\n",
      "0    New Explorations into Science, Technology and ...  ...            NaN\n",
      "45                       Eleanor Roosevelt High School  ...           86.0\n",
      "68   High School for Mathematics, Science, and Engi...  ...           92.6\n",
      "88                              Stuyvesant High School  ...           97.4\n",
      "93                 Staten Island Technical High School  ...           99.7\n",
      "170                       Bronx High School of Science  ...           97.0\n",
      "174  High School of American Studies at Lehman College  ...           91.8\n",
      "280                     Brooklyn Technical High School  ...           95.5\n",
      "333                        Townsend Harris High School  ...           97.1\n",
      "365  Queens High School for the Sciences at York Co...  ...           97.9\n",
      "\n",
      "[10 rows x 7 columns]\n",
      "                                           school_name  average_math\n",
      "88                              Stuyvesant High School           754\n",
      "170                       Bronx High School of Science           714\n",
      "93                 Staten Island Technical High School           711\n",
      "365  Queens High School for the Sciences at York Co...           701\n",
      "68   High School for Mathematics, Science, and Engi...           683\n",
      "280                     Brooklyn Technical High School           682\n",
      "333                        Townsend Harris High School           680\n",
      "174  High School of American Studies at Lehman College           669\n",
      "0    New Explorations into Science, Technology and ...           657\n",
      "45                       Eleanor Roosevelt High School           641\n"
     ]
    }
   ],
   "source": [
    "# Which NYC schools have the best math results?\n",
    "math_schools = schools[schools[\"average_math\"] >= 640]\n",
    "print(math_schools)\n",
    "\n",
    "best_math_schools = math_schools[[\"school_name\",\"average_math\"]].sort_values(\"average_math\", ascending=False)\n",
    "print(best_math_schools)"
   ]
  },
  {
   "cell_type": "code",
   "execution_count": 3,
   "id": "c7f93eea-3c82-49af-b55c-051ebbe16a11",
   "metadata": {
    "executionCancelledAt": null,
    "executionTime": 58,
    "lastExecutedAt": 1746429296645,
    "lastExecutedByKernel": "3d47bbd3-2b30-4bf7-8ddd-d8fc10f8795b",
    "lastScheduledRunId": null,
    "lastSuccessfullyExecutedCode": "# What are the top 10 performing schools based on the combined SAT scores?\nschools[\"total_SAT\"] = schools[[\"average_math\", \"average_reading\", \"average_writing\"]].sum(axis=1)\nprint(schools)\n\ntop_10_schools = schools[[\"school_name\",\"total_SAT\"]].sort_values(\"total_SAT\", ascending=False).head(10)\nprint(top_10_schools)",
    "outputsMetadata": {
     "0": {
      "height": 542,
      "type": "stream"
     }
    }
   },
   "outputs": [
    {
     "name": "stdout",
     "output_type": "stream",
     "text": [
      "                                           school_name  ... total_SAT\n",
      "0    New Explorations into Science, Technology and ...  ...      1859\n",
      "1                                 Essex Street Academy  ...      1193\n",
      "2                         Lower Manhattan Arts Academy  ...      1261\n",
      "3      High School for Dual Language and Asian Studies  ...      1529\n",
      "4        Henry Street School for International Studies  ...      1197\n",
      "..                                                 ...  ...       ...\n",
      "370  Queens High School for Information, Research, ...  ...      1086\n",
      "371  Rockaway Park High School for Environmental Su...  ...      1114\n",
      "372                   Channel View School for Research  ...      1280\n",
      "373                    Rockaway Collegiate High School  ...      1207\n",
      "374                                  Scholars' Academy  ...      1716\n",
      "\n",
      "[375 rows x 8 columns]\n",
      "                                           school_name  total_SAT\n",
      "88                              Stuyvesant High School       2144\n",
      "170                       Bronx High School of Science       2041\n",
      "93                 Staten Island Technical High School       2041\n",
      "174  High School of American Studies at Lehman College       2013\n",
      "333                        Townsend Harris High School       1981\n",
      "365  Queens High School for the Sciences at York Co...       1947\n",
      "5                       Bard High School Early College       1914\n",
      "280                     Brooklyn Technical High School       1896\n",
      "45                       Eleanor Roosevelt High School       1889\n",
      "68   High School for Mathematics, Science, and Engi...       1889\n"
     ]
    }
   ],
   "source": [
    "# What are the top 10 performing schools based on the combined SAT scores?\n",
    "schools[\"total_SAT\"] = schools[[\"average_math\", \"average_reading\", \"average_writing\"]].sum(axis=1)\n",
    "print(schools)\n",
    "\n",
    "top_10_schools = schools[[\"school_name\",\"total_SAT\"]].sort_values(\"total_SAT\", ascending=False).head(10)\n",
    "print(top_10_schools)"
   ]
  },
  {
   "cell_type": "code",
   "execution_count": 4,
   "id": "d233d6bc-5434-4937-a0b9-297d283bd438",
   "metadata": {
    "executionCancelledAt": null,
    "executionTime": 61,
    "lastExecutedAt": 1746429296707,
    "lastExecutedByKernel": "3d47bbd3-2b30-4bf7-8ddd-d8fc10f8795b",
    "lastScheduledRunId": null,
    "lastSuccessfullyExecutedCode": "# Which single borough has the largest standard deviation in the combined SAT score?\n# My way ,a lot worse than the optimal one\nstd_SAT = schools.groupby(\"borough\")[\"total_SAT\"].agg(\"std\").round(2)\nprint(std_SAT)\n\nnum_schools = schools.groupby(\"borough\")[\"borough\"].agg(\"count\")\nprint(num_schools)\n\naverage_SAT = schools.groupby(\"borough\")[\"total_SAT\"].mean().round(2)\nprint(average_SAT)\n\nborough_stats = pd.DataFrame({\n    \"num_schools\": num_schools,\n    \"average_SAT\": average_SAT,\n    \"std_SAT\": std_SAT\n})\n\nborough_stats\n\nlargest_std_dev = borough_stats[borough_stats[\"std_SAT\"] == borough_stats[\"std_SAT\"].max()]\nprint(largest_std_dev)",
    "outputsMetadata": {
     "0": {
      "height": 521,
      "type": "stream"
     }
    }
   },
   "outputs": [
    {
     "name": "stdout",
     "output_type": "stream",
     "text": [
      "borough\n",
      "Bronx            150.39\n",
      "Brooklyn         154.87\n",
      "Manhattan        230.29\n",
      "Queens           195.25\n",
      "Staten Island    222.30\n",
      "Name: total_SAT, dtype: float64\n",
      "borough\n",
      "Bronx             98\n",
      "Brooklyn         109\n",
      "Manhattan         89\n",
      "Queens            69\n",
      "Staten Island     10\n",
      "Name: borough, dtype: int64\n",
      "borough\n",
      "Bronx            1202.72\n",
      "Brooklyn         1230.26\n",
      "Manhattan        1340.13\n",
      "Queens           1345.48\n",
      "Staten Island    1439.00\n",
      "Name: total_SAT, dtype: float64\n",
      "           num_schools  average_SAT  std_SAT\n",
      "borough                                     \n",
      "Manhattan           89      1340.13   230.29\n"
     ]
    }
   ],
   "source": [
    "# Which single borough has the largest standard deviation in the combined SAT score?\n",
    "# My way ,a lot worse than the optimal one\n",
    "std_SAT = schools.groupby(\"borough\")[\"total_SAT\"].agg(\"std\").round(2)\n",
    "print(std_SAT)\n",
    "\n",
    "num_schools = schools.groupby(\"borough\")[\"borough\"].agg(\"count\")\n",
    "print(num_schools)\n",
    "\n",
    "average_SAT = schools.groupby(\"borough\")[\"total_SAT\"].mean().round(2)\n",
    "print(average_SAT)\n",
    "\n",
    "borough_stats = pd.DataFrame({\n",
    "    \"num_schools\": num_schools,\n",
    "    \"average_SAT\": average_SAT,\n",
    "    \"std_SAT\": std_SAT\n",
    "})\n",
    "\n",
    "borough_stats\n",
    "\n",
    "largest_std_dev = borough_stats[borough_stats[\"std_SAT\"] == borough_stats[\"std_SAT\"].max()]\n",
    "print(largest_std_dev)"
   ]
  },
  {
   "cell_type": "code",
   "execution_count": null,
   "id": "3e5d0b0c-fe49-4a5b-a5a6-33ac65ac0976",
   "metadata": {
    "executionCancelledAt": null,
    "executionTime": 55,
    "lastExecutedAt": 1746429296762,
    "lastExecutedByKernel": "3d47bbd3-2b30-4bf7-8ddd-d8fc10f8795b",
    "lastScheduledRunId": null,
    "lastSuccessfullyExecutedCode": "# Which single borough has the largest standard deviation in the combined SAT score?\n# optimal one\nboroughs = schools.groupby(\"borough\")[\"total_SAT\"].agg([\"count\",\"mean\",\"std\"]).round(2)\nlargest_std_dev2 = boroughs[boroughs[\"std\"] == boroughs[\"std\"].max()]\n\nlargest_std_dev2 = largest_std_dev.rename(columns={\"count\":\"num_schools\",\"mean\":\"average_SAT\",\"std\":\"std_SAT\"})\nprint(largest_std_dev)",
    "outputsMetadata": {
     "0": {
      "height": 80,
      "type": "stream"
     }
    }
   },
   "outputs": [
    {
     "name": "stdout",
     "output_type": "stream",
     "text": [
      "           num_schools  average_SAT  std_SAT\n",
      "borough                                     \n",
      "Manhattan           89      1340.13   230.29\n"
     ]
    }
   ],
   "source": [
    "# Which single borough has the largest standard deviation in the combined SAT score?\n",
    "# optimal one\n",
    "boroughs = schools.groupby(\"borough\")[\"total_SAT\"].agg([\"count\",\"mean\",\"std\"]).round(2)\n",
    "largest_std_dev2 = boroughs[boroughs[\"std\"] == boroughs[\"std\"].max()]\n",
    "\n",
    "largest_std_dev2 = largest_std_dev.rename(columns={\"count\":\"num_schools\",\"mean\":\"average_SAT\",\"std\":\"std_SAT\"})\n",
    "print(largest_std_dev)"
   ]
  }
 ],
 "metadata": {
  "editor": "DataLab",
  "kernelspec": {
   "display_name": "Python 3 (ipykernel)",
   "language": "python",
   "name": "python3"
  },
  "language_info": {
   "codemirror_mode": {
    "name": "ipython",
    "version": 3
   },
   "file_extension": ".py",
   "mimetype": "text/x-python",
   "name": "python",
   "nbconvert_exporter": "python",
   "pygments_lexer": "ipython3",
   "version": "3.8.10"
  }
 },
 "nbformat": 4,
 "nbformat_minor": 5
}
